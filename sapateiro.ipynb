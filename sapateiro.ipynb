{
  "nbformat": 4,
  "nbformat_minor": 0,
  "metadata": {
    "colab": {
      "provenance": [],
      "authorship_tag": "ABX9TyM8P4m38z9Dw1+fyI5SI/2i",
      "include_colab_link": true
    },
    "kernelspec": {
      "name": "python3",
      "display_name": "Python 3"
    },
    "language_info": {
      "name": "python"
    }
  },
  "cells": [
    {
      "cell_type": "markdown",
      "metadata": {
        "id": "view-in-github",
        "colab_type": "text"
      },
      "source": [
        "<a href=\"https://colab.research.google.com/github/josimarviana/pesquisaoperacional/blob/main/sapateiro.ipynb\" target=\"_parent\"><img src=\"https://colab.research.google.com/assets/colab-badge.svg\" alt=\"Open In Colab\"/></a>"
      ]
    },
    {
      "cell_type": "markdown",
      "source": [],
      "metadata": {
        "id": "Vsh2ZxxkvjI7"
      }
    },
    {
      "cell_type": "code",
      "source": [
        "# Instalar pulp, necessário apenas na primeira execução\n",
        "#!pip install pulp"
      ],
      "metadata": {
        "id": "XDRuOAYSv4pk"
      },
      "execution_count": null,
      "outputs": []
    },
    {
      "cell_type": "code",
      "execution_count": null,
      "metadata": {
        "id": "RSvfR32ArP8z"
      },
      "outputs": [],
      "source": [
        "# importando PuLP (pode ser instalado com pip install, por exemplo, no prompt do anaconda)\n",
        "from pulp import *\n"
      ]
    },
    {
      "cell_type": "code",
      "source": [
        "# use a função LpProblem para inicializar uma declaração do nosso problema de otimização linear\n",
        "problema =  LpProblem(\"Sapateiro\", LpMaximize)\n",
        "\n"
      ],
      "metadata": {
        "id": "aPW_tI3IvlHo"
      },
      "execution_count": null,
      "outputs": []
    },
    {
      "cell_type": "code",
      "source": [
        "# usando as variáveis ​​de otimização do módulo PuLP devem ser declaradas com a função LpVariable\n",
        "x1 = LpVariable(\"x1\",lowBound = 0) \n",
        "x2 = LpVariable(\"x2\",lowBound = 0) \n",
        "\n"
      ],
      "metadata": {
        "id": "lNRNEV4QvlZp"
      },
      "execution_count": null,
      "outputs": []
    },
    {
      "cell_type": "code",
      "source": [
        "# usando o operador += podemos adicionar a função objetivo ao problema declarado\n",
        "problema += 5*x1 + 2*x2 \n",
        "\n"
      ],
      "metadata": {
        "id": "XXbqsmoGwLW2"
      },
      "execution_count": null,
      "outputs": []
    },
    {
      "cell_type": "code",
      "source": [
        "# mesma abordagem é válida para adicionar restrições\n",
        "problema += 2*x1 + x2 <= 6\n",
        "problema += 10*x1 + 12*x2 <= 60\n",
        "problema += x1 >= 0\n",
        "problema += x2 >= 0\n",
        "\n"
      ],
      "metadata": {
        "id": "fz6NtdpiwM1u"
      },
      "execution_count": null,
      "outputs": []
    },
    {
      "cell_type": "code",
      "source": [
        "# podemos revisar nosso problema agora\n",
        "problema"
      ],
      "metadata": {
        "colab": {
          "base_uri": "https://localhost:8080/"
        },
        "id": "KOLNvGPxwN85",
        "outputId": "89a6ea43-0189-4fa3-8cbb-262898ea09d5"
      },
      "execution_count": null,
      "outputs": [
        {
          "output_type": "execute_result",
          "data": {
            "text/plain": [
              "Sapateiro:\n",
              "MAXIMIZE\n",
              "5*x1 + 2*x2 + 0\n",
              "SUBJECT TO\n",
              "_C1: 2 x1 + x2 <= 6\n",
              "\n",
              "_C2: 10 x1 + 12 x2 <= 60\n",
              "\n",
              "_C3: x1 >= 0\n",
              "\n",
              "_C4: x2 >= 0\n",
              "\n",
              "VARIABLES\n",
              "x1 Continuous\n",
              "x2 Continuous"
            ]
          },
          "metadata": {},
          "execution_count": 78
        }
      ]
    },
    {
      "cell_type": "code",
      "source": [
        "# resolve o problema, usando o solver PuLP padrão para problemas de otimização linear contínua\n",
        "solution = problema.solve()\n"
      ],
      "metadata": {
        "id": "Ti0nu_1gwOxG"
      },
      "execution_count": null,
      "outputs": []
    },
    {
      "cell_type": "code",
      "source": [
        "\n",
        "# veja se a execução da otimização foi bem sucedida, usando LpStatus do módulo PuLP\n",
        "LpStatus[solution]"
      ],
      "metadata": {
        "colab": {
          "base_uri": "https://localhost:8080/",
          "height": 35
        },
        "id": "xPSFNuMswWHM",
        "outputId": "4ab52764-eeff-4f1a-dcb3-56ae5fe619c4"
      },
      "execution_count": null,
      "outputs": [
        {
          "output_type": "execute_result",
          "data": {
            "text/plain": [
              "'Optimal'"
            ],
            "application/vnd.google.colaboratory.intrinsic+json": {
              "type": "string"
            }
          },
          "metadata": {},
          "execution_count": 80
        }
      ]
    },
    {
      "cell_type": "code",
      "source": [
        "# o valor ótimo da função objetivo é acessado com a função valor da seguinte maneira\n",
        "print(\"O valor ótimo da função é = \", value(problema.objective)) "
      ],
      "metadata": {
        "colab": {
          "base_uri": "https://localhost:8080/"
        },
        "id": "CwWhPFrSwbc-",
        "outputId": "cff6d8d4-3882-44f1-856a-5640ae0d31e6"
      },
      "execution_count": null,
      "outputs": [
        {
          "output_type": "stream",
          "name": "stdout",
          "text": [
            "O valor ótimo da função é =  15.0\n"
          ]
        }
      ]
    },
    {
      "cell_type": "code",
      "source": [
        "#acessando os valores das variáveis\n",
        "for v in problema.variables():\n",
        "    print (v.name, \"=\", v.varValue)"
      ],
      "metadata": {
        "colab": {
          "base_uri": "https://localhost:8080/"
        },
        "id": "vB4_BuBjz7Po",
        "outputId": "336ff81a-636a-4b78-fa7d-c7bb44c6df5b"
      },
      "execution_count": null,
      "outputs": [
        {
          "output_type": "stream",
          "name": "stdout",
          "text": [
            "x1 = 3.0\n",
            "x2 = 0.0\n"
          ]
        }
      ]
    },
    {
      "cell_type": "code",
      "source": [
        "# a solução ótima para x1 também é acessada com a função value (mas já temos x1 como manipulador)\n",
        "value(x1)"
      ],
      "metadata": {
        "colab": {
          "base_uri": "https://localhost:8080/"
        },
        "id": "7N-wK0nnybme",
        "outputId": "1bd7d564-2e50-4e32-f796-f74367f61e41"
      },
      "execution_count": null,
      "outputs": [
        {
          "output_type": "execute_result",
          "data": {
            "text/plain": [
              "3.0"
            ]
          },
          "metadata": {},
          "execution_count": 83
        }
      ]
    },
    {
      "cell_type": "code",
      "source": [
        "# por último, abaixo mostro a solução ideal para x2\n",
        "value(x2)"
      ],
      "metadata": {
        "colab": {
          "base_uri": "https://localhost:8080/"
        },
        "id": "M9LYvpsZyc43",
        "outputId": "02474df7-edb3-4c0c-f316-8f1c66aaba59"
      },
      "execution_count": null,
      "outputs": [
        {
          "output_type": "execute_result",
          "data": {
            "text/plain": [
              "0.0"
            ]
          },
          "metadata": {},
          "execution_count": 84
        }
      ]
    },
    {
      "cell_type": "code",
      "source": [
        "import matplotlib.pyplot as plt\n",
        "import numpy as np"
      ],
      "metadata": {
        "id": "NouVPu3c2HnY"
      },
      "execution_count": null,
      "outputs": []
    },
    {
      "cell_type": "code",
      "source": [
        "# Plot the optimal solution\n",
        "x = np.arange(0, 4)\n",
        "plt.plot(x, 2.5 - x, label = '4x1 + 4x2 >= 10')\n",
        "plt.plot(x, 4 - 2 * x, label= ' 2x1 + x2 >= 4')\n",
        "plt.plot(x, 6 - 3 * x, label = '6x1 + 2x2 <= 12')\n",
        "plt.plot(x, 2 - 2/3*x, '--')\n",
        "\n",
        "# Define the boundaries of the feasible area in the plot\n",
        "x = [0, 1.5, 1.75, 0]\n",
        "y = [4, 1, 0.75, 6]\n",
        "plt.fill(x, y, 'grey')\n",
        "\n",
        "plt.text(0.1, 4, 'Região \\n Factível', size = '11')\n",
        "plt.annotate('Solução \\n ótima\\n(1.5, 1)', xy = (1.5, 1.0))\n",
        "\n",
        "plt.xlabel(\"x_1\")\n",
        "plt.ylabel(\"x_2\")\n",
        "plt.title('LPP:Solução Gráfica')\n",
        "plt.axis([0, 3, 0, 6])\n",
        "plt.grid(True)\n",
        "plt.legend()\n",
        "plt.show()\n",
        "\n"
      ],
      "metadata": {
        "colab": {
          "base_uri": "https://localhost:8080/",
          "height": 296
        },
        "id": "rTIbIKTg2F4M",
        "outputId": "9ad83bf1-661f-4ea3-c347-e8f94da9afcc"
      },
      "execution_count": null,
      "outputs": [
        {
          "output_type": "display_data",
          "data": {
            "text/plain": [
              "<Figure size 432x288 with 1 Axes>"
            ],
            "image/png": "[encoded data removed]"
          },
          "metadata": {
            "needs_background": "light"
          }
        }
      ]
    }
  ]
}